{
 "cells": [
  {
   "cell_type": "markdown",
   "id": "8a24c832",
   "metadata": {},
   "source": [
    "# Testing an example"
   ]
  },
  {
   "cell_type": "code",
   "execution_count": null,
   "id": "c35b4333",
   "metadata": {},
   "outputs": [],
   "source": [
    "!pip install openai\n",
    "!pip install python-dotenv"
   ]
  },
  {
   "cell_type": "code",
   "execution_count": 24,
   "id": "c9fadfa0",
   "metadata": {},
   "outputs": [],
   "source": [
    "import openai\n",
    "import os\n",
    "\n",
    "from dotenv import load_dotenv\n",
    "load_dotenv()\n",
    "\n",
    "openai.api_key  = os.getenv('OPENAI_API_KEY')"
   ]
  },
  {
   "cell_type": "code",
   "execution_count": 25,
   "id": "b14ff395",
   "metadata": {},
   "outputs": [],
   "source": [
    "client = openai.OpenAI()\n",
    "\n",
    "def get_completion(prompt, model=\"gpt-4.1\"):\n",
    "    messages = [{\"role\": \"user\", \"content\": prompt}]\n",
    "    response = client.chat.completions.create(\n",
    "        model=model,\n",
    "        messages=messages,\n",
    "        temperature=0\n",
    "    )\n",
    "    return response.choices[0].message.content"
   ]
  },
  {
   "cell_type": "code",
   "execution_count": 26,
   "id": "fabf5eb9",
   "metadata": {},
   "outputs": [
    {
     "name": "stdout",
     "output_type": "stream",
     "text": [
      "To obtain accurate and relevant responses from a model, give clear, specific, and detailed instructions, as longer prompts often provide better guidance than shorter ones.\n"
     ]
    }
   ],
   "source": [
    "text = f\"\"\"\n",
    "You should express what you want a model to do by providing instructions that are as clear and specific as you can possibly make them. This will guide the model towards the desired output, and reduce the chances of receiving irrelevant or incorrect responses. Don't confuse writing a clear prompt with writing a short prompt. In many cases, longer prompts provide more clarity and context for the model, which can lead to \n",
    "more detailed and relevant outputs.\n",
    "\"\"\"\n",
    "prompt = f\"\"\"\n",
    "Summarize the text delimited by triple backticks into a single sentence.\n",
    "```{text}```\n",
    "\"\"\"\n",
    "response = get_completion(prompt)\n",
    "print(response)"
   ]
  },
  {
   "cell_type": "markdown",
   "id": "d7811c82",
   "metadata": {},
   "source": [
    "# Streamlit Sample"
   ]
  },
  {
   "cell_type": "code",
   "execution_count": 28,
   "id": "2f3ac867",
   "metadata": {},
   "outputs": [
    {
     "name": "stdout",
     "output_type": "stream",
     "text": [
      "Requirement already satisfied: streamlit in /Users/matt/GenAI-W1-Challenge/customer_service_chatbot/.venv/lib/python3.13/site-packages (1.47.1)\n",
      "Requirement already satisfied: altair<6,>=4.0 in /Users/matt/GenAI-W1-Challenge/customer_service_chatbot/.venv/lib/python3.13/site-packages (from streamlit) (5.5.0)\n",
      "Requirement already satisfied: blinker<2,>=1.5.0 in /Users/matt/GenAI-W1-Challenge/customer_service_chatbot/.venv/lib/python3.13/site-packages (from streamlit) (1.9.0)\n",
      "Requirement already satisfied: cachetools<7,>=4.0 in /Users/matt/GenAI-W1-Challenge/customer_service_chatbot/.venv/lib/python3.13/site-packages (from streamlit) (6.1.0)\n",
      "Requirement already satisfied: click<9,>=7.0 in /Users/matt/GenAI-W1-Challenge/customer_service_chatbot/.venv/lib/python3.13/site-packages (from streamlit) (8.2.1)\n",
      "Requirement already satisfied: numpy<3,>=1.23 in /Users/matt/GenAI-W1-Challenge/customer_service_chatbot/.venv/lib/python3.13/site-packages (from streamlit) (2.3.2)\n",
      "Requirement already satisfied: packaging<26,>=20 in /Users/matt/GenAI-W1-Challenge/customer_service_chatbot/.venv/lib/python3.13/site-packages (from streamlit) (25.0)\n",
      "Requirement already satisfied: pandas<3,>=1.4.0 in /Users/matt/GenAI-W1-Challenge/customer_service_chatbot/.venv/lib/python3.13/site-packages (from streamlit) (2.3.1)\n",
      "Requirement already satisfied: pillow<12,>=7.1.0 in /Users/matt/GenAI-W1-Challenge/customer_service_chatbot/.venv/lib/python3.13/site-packages (from streamlit) (11.3.0)\n",
      "Requirement already satisfied: protobuf<7,>=3.20 in /Users/matt/GenAI-W1-Challenge/customer_service_chatbot/.venv/lib/python3.13/site-packages (from streamlit) (6.31.1)\n",
      "Requirement already satisfied: pyarrow>=7.0 in /Users/matt/GenAI-W1-Challenge/customer_service_chatbot/.venv/lib/python3.13/site-packages (from streamlit) (21.0.0)\n",
      "Requirement already satisfied: requests<3,>=2.27 in /Users/matt/GenAI-W1-Challenge/customer_service_chatbot/.venv/lib/python3.13/site-packages (from streamlit) (2.32.4)\n",
      "Requirement already satisfied: tenacity<10,>=8.1.0 in /Users/matt/GenAI-W1-Challenge/customer_service_chatbot/.venv/lib/python3.13/site-packages (from streamlit) (9.1.2)\n",
      "Requirement already satisfied: toml<2,>=0.10.1 in /Users/matt/GenAI-W1-Challenge/customer_service_chatbot/.venv/lib/python3.13/site-packages (from streamlit) (0.10.2)\n",
      "Requirement already satisfied: typing-extensions<5,>=4.4.0 in /Users/matt/GenAI-W1-Challenge/customer_service_chatbot/.venv/lib/python3.13/site-packages (from streamlit) (4.14.1)\n",
      "Requirement already satisfied: gitpython!=3.1.19,<4,>=3.0.7 in /Users/matt/GenAI-W1-Challenge/customer_service_chatbot/.venv/lib/python3.13/site-packages (from streamlit) (3.1.45)\n",
      "Requirement already satisfied: pydeck<1,>=0.8.0b4 in /Users/matt/GenAI-W1-Challenge/customer_service_chatbot/.venv/lib/python3.13/site-packages (from streamlit) (0.9.1)\n",
      "Requirement already satisfied: tornado!=6.5.0,<7,>=6.0.3 in /Users/matt/GenAI-W1-Challenge/customer_service_chatbot/.venv/lib/python3.13/site-packages (from streamlit) (6.5.1)\n",
      "Requirement already satisfied: jinja2 in /Users/matt/GenAI-W1-Challenge/customer_service_chatbot/.venv/lib/python3.13/site-packages (from altair<6,>=4.0->streamlit) (3.1.6)\n",
      "Requirement already satisfied: jsonschema>=3.0 in /Users/matt/GenAI-W1-Challenge/customer_service_chatbot/.venv/lib/python3.13/site-packages (from altair<6,>=4.0->streamlit) (4.25.0)\n",
      "Requirement already satisfied: narwhals>=1.14.2 in /Users/matt/GenAI-W1-Challenge/customer_service_chatbot/.venv/lib/python3.13/site-packages (from altair<6,>=4.0->streamlit) (2.0.1)\n",
      "Requirement already satisfied: gitdb<5,>=4.0.1 in /Users/matt/GenAI-W1-Challenge/customer_service_chatbot/.venv/lib/python3.13/site-packages (from gitpython!=3.1.19,<4,>=3.0.7->streamlit) (4.0.12)\n",
      "Requirement already satisfied: smmap<6,>=3.0.1 in /Users/matt/GenAI-W1-Challenge/customer_service_chatbot/.venv/lib/python3.13/site-packages (from gitdb<5,>=4.0.1->gitpython!=3.1.19,<4,>=3.0.7->streamlit) (5.0.2)\n",
      "Requirement already satisfied: python-dateutil>=2.8.2 in /Users/matt/GenAI-W1-Challenge/customer_service_chatbot/.venv/lib/python3.13/site-packages (from pandas<3,>=1.4.0->streamlit) (2.9.0.post0)\n",
      "Requirement already satisfied: pytz>=2020.1 in /Users/matt/GenAI-W1-Challenge/customer_service_chatbot/.venv/lib/python3.13/site-packages (from pandas<3,>=1.4.0->streamlit) (2025.2)\n",
      "Requirement already satisfied: tzdata>=2022.7 in /Users/matt/GenAI-W1-Challenge/customer_service_chatbot/.venv/lib/python3.13/site-packages (from pandas<3,>=1.4.0->streamlit) (2025.2)\n",
      "Requirement already satisfied: charset_normalizer<4,>=2 in /Users/matt/GenAI-W1-Challenge/customer_service_chatbot/.venv/lib/python3.13/site-packages (from requests<3,>=2.27->streamlit) (3.4.2)\n",
      "Requirement already satisfied: idna<4,>=2.5 in /Users/matt/GenAI-W1-Challenge/customer_service_chatbot/.venv/lib/python3.13/site-packages (from requests<3,>=2.27->streamlit) (3.10)\n",
      "Requirement already satisfied: urllib3<3,>=1.21.1 in /Users/matt/GenAI-W1-Challenge/customer_service_chatbot/.venv/lib/python3.13/site-packages (from requests<3,>=2.27->streamlit) (2.5.0)\n",
      "Requirement already satisfied: certifi>=2017.4.17 in /Users/matt/GenAI-W1-Challenge/customer_service_chatbot/.venv/lib/python3.13/site-packages (from requests<3,>=2.27->streamlit) (2025.7.14)\n",
      "Requirement already satisfied: MarkupSafe>=2.0 in /Users/matt/GenAI-W1-Challenge/customer_service_chatbot/.venv/lib/python3.13/site-packages (from jinja2->altair<6,>=4.0->streamlit) (3.0.2)\n",
      "Requirement already satisfied: attrs>=22.2.0 in /Users/matt/GenAI-W1-Challenge/customer_service_chatbot/.venv/lib/python3.13/site-packages (from jsonschema>=3.0->altair<6,>=4.0->streamlit) (25.3.0)\n",
      "Requirement already satisfied: jsonschema-specifications>=2023.03.6 in /Users/matt/GenAI-W1-Challenge/customer_service_chatbot/.venv/lib/python3.13/site-packages (from jsonschema>=3.0->altair<6,>=4.0->streamlit) (2025.4.1)\n",
      "Requirement already satisfied: referencing>=0.28.4 in /Users/matt/GenAI-W1-Challenge/customer_service_chatbot/.venv/lib/python3.13/site-packages (from jsonschema>=3.0->altair<6,>=4.0->streamlit) (0.36.2)\n",
      "Requirement already satisfied: rpds-py>=0.7.1 in /Users/matt/GenAI-W1-Challenge/customer_service_chatbot/.venv/lib/python3.13/site-packages (from jsonschema>=3.0->altair<6,>=4.0->streamlit) (0.26.0)\n",
      "Requirement already satisfied: six>=1.5 in /Users/matt/GenAI-W1-Challenge/customer_service_chatbot/.venv/lib/python3.13/site-packages (from python-dateutil>=2.8.2->pandas<3,>=1.4.0->streamlit) (1.17.0)\n"
     ]
    }
   ],
   "source": [
    "!pip install streamlit"
   ]
  },
  {
   "cell_type": "code",
   "execution_count": 29,
   "id": "ff7656e6",
   "metadata": {},
   "outputs": [],
   "source": [
    "import streamlit as st"
   ]
  },
  {
   "cell_type": "code",
   "execution_count": 31,
   "id": "f6aee92a",
   "metadata": {},
   "outputs": [
    {
     "name": "stderr",
     "output_type": "stream",
     "text": [
      "2025-07-29 23:21:40.013 WARNING streamlit.runtime.scriptrunner_utils.script_run_context: Thread 'MainThread': missing ScriptRunContext! This warning can be ignored when running in bare mode.\n",
      "2025-07-29 23:21:40.015 WARNING streamlit.runtime.scriptrunner_utils.script_run_context: Thread 'MainThread': missing ScriptRunContext! This warning can be ignored when running in bare mode.\n",
      "2025-07-29 23:21:40.083 \n",
      "  \u001b[33m\u001b[1mWarning:\u001b[0m to view this Streamlit app on a browser, run it with the following\n",
      "  command:\n",
      "\n",
      "    streamlit run /Users/matt/GenAI-W1-Challenge/customer_service_chatbot/.venv/lib/python3.13/site-packages/ipykernel_launcher.py [ARGUMENTS]\n",
      "2025-07-29 23:21:40.084 Thread 'MainThread': missing ScriptRunContext! This warning can be ignored when running in bare mode.\n",
      "2025-07-29 23:21:40.084 Thread 'MainThread': missing ScriptRunContext! This warning can be ignored when running in bare mode.\n",
      "2025-07-29 23:21:40.084 Thread 'MainThread': missing ScriptRunContext! This warning can be ignored when running in bare mode.\n",
      "2025-07-29 23:21:40.085 Session state does not function when running a script without `streamlit run`\n",
      "2025-07-29 23:21:40.085 Thread 'MainThread': missing ScriptRunContext! This warning can be ignored when running in bare mode.\n",
      "2025-07-29 23:21:40.085 Thread 'MainThread': missing ScriptRunContext! This warning can be ignored when running in bare mode.\n",
      "2025-07-29 23:21:40.085 Thread 'MainThread': missing ScriptRunContext! This warning can be ignored when running in bare mode.\n",
      "2025-07-29 23:21:40.085 Thread 'MainThread': missing ScriptRunContext! This warning can be ignored when running in bare mode.\n",
      "2025-07-29 23:21:40.086 Thread 'MainThread': missing ScriptRunContext! This warning can be ignored when running in bare mode.\n",
      "2025-07-29 23:21:40.086 Thread 'MainThread': missing ScriptRunContext! This warning can be ignored when running in bare mode.\n",
      "2025-07-29 23:21:40.086 Thread 'MainThread': missing ScriptRunContext! This warning can be ignored when running in bare mode.\n",
      "2025-07-29 23:21:40.086 Thread 'MainThread': missing ScriptRunContext! This warning can be ignored when running in bare mode.\n",
      "2025-07-29 23:21:40.087 Thread 'MainThread': missing ScriptRunContext! This warning can be ignored when running in bare mode.\n",
      "2025-07-29 23:21:40.087 Thread 'MainThread': missing ScriptRunContext! This warning can be ignored when running in bare mode.\n",
      "2025-07-29 23:21:40.087 Thread 'MainThread': missing ScriptRunContext! This warning can be ignored when running in bare mode.\n",
      "2025-07-29 23:21:40.087 Thread 'MainThread': missing ScriptRunContext! This warning can be ignored when running in bare mode.\n",
      "2025-07-29 23:21:40.087 Thread 'MainThread': missing ScriptRunContext! This warning can be ignored when running in bare mode.\n",
      "2025-07-29 23:21:40.088 Thread 'MainThread': missing ScriptRunContext! This warning can be ignored when running in bare mode.\n",
      "2025-07-29 23:21:40.088 Thread 'MainThread': missing ScriptRunContext! This warning can be ignored when running in bare mode.\n",
      "2025-07-29 23:21:40.088 Thread 'MainThread': missing ScriptRunContext! This warning can be ignored when running in bare mode.\n",
      "2025-07-29 23:21:40.088 Thread 'MainThread': missing ScriptRunContext! This warning can be ignored when running in bare mode.\n",
      "2025-07-29 23:21:40.088 Thread 'MainThread': missing ScriptRunContext! This warning can be ignored when running in bare mode.\n",
      "2025-07-29 23:21:40.088 Thread 'MainThread': missing ScriptRunContext! This warning can be ignored when running in bare mode.\n",
      "2025-07-29 23:21:40.089 Thread 'MainThread': missing ScriptRunContext! This warning can be ignored when running in bare mode.\n",
      "2025-07-29 23:21:40.089 Thread 'MainThread': missing ScriptRunContext! This warning can be ignored when running in bare mode.\n"
     ]
    }
   ],
   "source": [
    "# Page configuration\n",
    "st.set_page_config(page_title=\"OrderBot - Pizza Restaurant\", page_icon=\"🍕\")\n",
    "\n",
    "# Application title\n",
    "st.title(\"🍕 OrderBot - Pizza Restaurant\")\n",
    "\n",
    "# Initialize chat history in session state if it doesn't exist\n",
    "if \"messages\" not in st.session_state:\n",
    "    # System message that defines the bot's behavior\n",
    "    st.session_state.messages = [\n",
    "        {'role':'system', 'content':'''\n",
    "        You are OrderBot, an automated service to collect orders for a pizza restaurant. \\\n",
    "        You first greet the customer, then collects the order, \\\n",
    "        and then asks if it's a pickup or delivery. \\\n",
    "        You wait to collect the entire order, then summarize it and check for a final \\\n",
    "        time if the customer wants to add anything else. \\\n",
    "        If it's a delivery, you ask for an address. \\\n",
    "        Finally you collect the payment.\\\n",
    "        Make sure to clarify all options, extras and sizes to uniquely \\\n",
    "        identify the item from the menu.\\\n",
    "        You respond in a short, very conversational friendly style. \\\n",
    "        The menu includes \\\n",
    "        pepperoni pizza  12.95, 10.00, 7.00 \\\n",
    "        cheese pizza   10.95, 9.25, 6.50 \\\n",
    "        eggplant pizza   11.95, 9.75, 6.75 \\\n",
    "        fries 4.50, 3.50 \\\n",
    "        greek salad 7.25 \\\n",
    "        Toppings: \\\n",
    "        extra cheese 2.00, \\\n",
    "        mushrooms 1.50 \\\n",
    "        sausage 3.00 \\\n",
    "        canadian bacon 3.50 \\\n",
    "        AI sauce 1.50 \\\n",
    "        peppers 1.00 \\\n",
    "        Drinks: \\\n",
    "        coke 3.00, 2.00, 1.00 \\\n",
    "        sprite 3.00, 2.00, 1.00 \\\n",
    "        bottled water 5.00 \\\n",
    "        '''}\n",
    "    ]\n",
    "\n",
    "# Display chat messages\n",
    "for message in st.session_state.messages:\n",
    "    if message[\"role\"] == \"user\":\n",
    "        st.chat_message(\"user\").write(message[\"content\"])\n",
    "    elif message[\"role\"] == \"assistant\":\n",
    "        st.chat_message(\"assistant\").write(message[\"content\"])\n",
    "\n",
    "# User input\n",
    "if prompt := st.chat_input(\"What would you like to order?\"):\n",
    "    # Add user message to history\n",
    "    st.session_state.messages.append({\"role\": \"user\", \"content\": prompt})\n",
    "    st.chat_message(\"user\").write(prompt)\n",
    "    \n",
    "    # Get assistant response\n",
    "    response = get_completion_from_messages(st.session_state.messages)\n",
    "    \n",
    "    # Add assistant response to history\n",
    "    st.session_state.messages.append({\"role\": \"assistant\", \"content\": response})\n",
    "    st.chat_message(\"assistant\").write(response)\n",
    "\n",
    "# Button to generate order summary\n",
    "if st.button(\"Generate Order Summary\"):\n",
    "    if len(st.session_state.messages) > 1:  # Verify that there is a conversation\n",
    "        # Copy messages and add instruction to generate summary\n",
    "        summary_messages = st.session_state.messages.copy()\n",
    "        summary_messages.append(\n",
    "            {'role':'system', 'content':'create a json summary of the previous food order. Itemize the price for each item\\\n",
    "             The fields should be 1) pizza, include size 2) list of toppings 3) list of drinks, include size 4) list of sides include size 5)total price'}\n",
    "        )\n",
    "        \n",
    "        # Get the summary\n",
    "        summary = get_completion_from_messages(summary_messages, temperature=0)\n",
    "        \n",
    "        # Show the summary in an expander\n",
    "        with st.expander(\"Order Summary\", expanded=True):\n",
    "            st.code(summary, language=\"json\")\n",
    "    else:\n",
    "        st.warning(\"You need to place an order first to generate a summary.\")\n",
    "\n",
    "# Button to restart the conversation\n",
    "if st.button(\"Restart Conversation\"):\n",
    "    # Keep only the system message\n",
    "    st.session_state.messages = [st.session_state.messages[0]]\n",
    "    st.rerun()"
   ]
  }
 ],
 "metadata": {
  "kernelspec": {
   "display_name": ".venv (3.13.5)",
   "language": "python",
   "name": "python3"
  },
  "language_info": {
   "codemirror_mode": {
    "name": "ipython",
    "version": 3
   },
   "file_extension": ".py",
   "mimetype": "text/x-python",
   "name": "python",
   "nbconvert_exporter": "python",
   "pygments_lexer": "ipython3",
   "version": "3.13.5"
  }
 },
 "nbformat": 4,
 "nbformat_minor": 5
}
